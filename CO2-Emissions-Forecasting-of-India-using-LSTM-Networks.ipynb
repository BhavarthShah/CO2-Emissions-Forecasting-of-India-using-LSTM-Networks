{
 "cells": [
  {
   "cell_type": "markdown",
   "id": "ddc26169",
   "metadata": {},
   "source": [
    "# CO2-Emissions-Forecasting-of-India-using-LSTM-Networks"
   ]
  },
  {
   "cell_type": "code",
   "execution_count": 1,
   "id": "b83e1426",
   "metadata": {},
   "outputs": [],
   "source": [
    "# Import the required libraries\n",
    "\n",
    "import numpy as np\n",
    "import pandas as pd\n",
    "import matplotlib.pyplot as plt\n",
    "\n",
    "import keras\n",
    "from keras.models import Sequential\n",
    "from keras.layers import Dense\n",
    "from keras.layers import LSTM\n",
    "from keras.layers import Dropout\n",
    "\n",
    "from sklearn.preprocessing import MinMaxScaler\n",
    "from sklearn.metrics import mean_absolute_error\n",
    "from sklearn.metrics import mean_squared_error"
   ]
  },
  {
   "cell_type": "code",
   "execution_count": 2,
   "id": "790502fa",
   "metadata": {},
   "outputs": [
    {
     "data": {
      "text/html": [
       "<div>\n",
       "<style scoped>\n",
       "    .dataframe tbody tr th:only-of-type {\n",
       "        vertical-align: middle;\n",
       "    }\n",
       "\n",
       "    .dataframe tbody tr th {\n",
       "        vertical-align: top;\n",
       "    }\n",
       "\n",
       "    .dataframe thead th {\n",
       "        text-align: right;\n",
       "    }\n",
       "</style>\n",
       "<table border=\"1\" class=\"dataframe\">\n",
       "  <thead>\n",
       "    <tr style=\"text-align: right;\">\n",
       "      <th></th>\n",
       "      <th>Year</th>\n",
       "      <th>CO2 emissions</th>\n",
       "    </tr>\n",
       "  </thead>\n",
       "  <tbody>\n",
       "    <tr>\n",
       "      <th>0</th>\n",
       "      <td>1960</td>\n",
       "      <td>0.267634</td>\n",
       "    </tr>\n",
       "    <tr>\n",
       "      <th>1</th>\n",
       "      <td>1961</td>\n",
       "      <td>0.283704</td>\n",
       "    </tr>\n",
       "    <tr>\n",
       "      <th>2</th>\n",
       "      <td>1962</td>\n",
       "      <td>0.305851</td>\n",
       "    </tr>\n",
       "    <tr>\n",
       "      <th>3</th>\n",
       "      <td>1963</td>\n",
       "      <td>0.321795</td>\n",
       "    </tr>\n",
       "    <tr>\n",
       "      <th>4</th>\n",
       "      <td>1964</td>\n",
       "      <td>0.308169</td>\n",
       "    </tr>\n",
       "  </tbody>\n",
       "</table>\n",
       "</div>"
      ],
      "text/plain": [
       "   Year  CO2 emissions\n",
       "0  1960       0.267634\n",
       "1  1961       0.283704\n",
       "2  1962       0.305851\n",
       "3  1963       0.321795\n",
       "4  1964       0.308169"
      ]
     },
     "execution_count": 2,
     "metadata": {},
     "output_type": "execute_result"
    }
   ],
   "source": [
    "# Specify file location\n",
    "\n",
    "dataframe_CO2Emissions = pd.read_csv('CO2_Emissions_India.csv')\n",
    "dataframe_CO2Emissions.head()"
   ]
  },
  {
   "cell_type": "code",
   "execution_count": 3,
   "id": "ba3ba221",
   "metadata": {},
   "outputs": [
    {
     "data": {
      "text/html": [
       "<div>\n",
       "<style scoped>\n",
       "    .dataframe tbody tr th:only-of-type {\n",
       "        vertical-align: middle;\n",
       "    }\n",
       "\n",
       "    .dataframe tbody tr th {\n",
       "        vertical-align: top;\n",
       "    }\n",
       "\n",
       "    .dataframe thead th {\n",
       "        text-align: right;\n",
       "    }\n",
       "</style>\n",
       "<table border=\"1\" class=\"dataframe\">\n",
       "  <thead>\n",
       "    <tr style=\"text-align: right;\">\n",
       "      <th></th>\n",
       "      <th>Year</th>\n",
       "      <th>CO2 emissions</th>\n",
       "    </tr>\n",
       "  </thead>\n",
       "  <tbody>\n",
       "    <tr>\n",
       "      <th>54</th>\n",
       "      <td>2014</td>\n",
       "      <td>1.649328</td>\n",
       "    </tr>\n",
       "    <tr>\n",
       "      <th>55</th>\n",
       "      <td>2015</td>\n",
       "      <td>1.641198</td>\n",
       "    </tr>\n",
       "    <tr>\n",
       "      <th>56</th>\n",
       "      <td>2016</td>\n",
       "      <td>1.648359</td>\n",
       "    </tr>\n",
       "    <tr>\n",
       "      <th>57</th>\n",
       "      <td>2017</td>\n",
       "      <td>1.719190</td>\n",
       "    </tr>\n",
       "    <tr>\n",
       "      <th>58</th>\n",
       "      <td>2018</td>\n",
       "      <td>1.799825</td>\n",
       "    </tr>\n",
       "  </tbody>\n",
       "</table>\n",
       "</div>"
      ],
      "text/plain": [
       "    Year  CO2 emissions\n",
       "54  2014       1.649328\n",
       "55  2015       1.641198\n",
       "56  2016       1.648359\n",
       "57  2017       1.719190\n",
       "58  2018       1.799825"
      ]
     },
     "execution_count": 3,
     "metadata": {},
     "output_type": "execute_result"
    }
   ],
   "source": [
    "dataframe_CO2Emissions.tail()"
   ]
  },
  {
   "cell_type": "code",
   "execution_count": 4,
   "id": "2cb576fd",
   "metadata": {},
   "outputs": [
    {
     "data": {
      "text/plain": [
       "(59, 2)"
      ]
     },
     "execution_count": 4,
     "metadata": {},
     "output_type": "execute_result"
    }
   ],
   "source": [
    "dataframe_CO2Emissions.shape"
   ]
  },
  {
   "cell_type": "code",
   "execution_count": 5,
   "id": "eaaf5288",
   "metadata": {},
   "outputs": [
    {
     "name": "stdout",
     "output_type": "stream",
     "text": [
      "Year             0\n",
      "CO2 emissions    0\n",
      "dtype: int64\n",
      "<class 'pandas.core.frame.DataFrame'>\n",
      "RangeIndex: 59 entries, 0 to 58\n",
      "Data columns (total 2 columns):\n",
      " #   Column         Non-Null Count  Dtype  \n",
      "---  ------         --------------  -----  \n",
      " 0   Year           59 non-null     int64  \n",
      " 1   CO2 emissions  59 non-null     float64\n",
      "dtypes: float64(1), int64(1)\n",
      "memory usage: 1.0 KB\n",
      "None\n"
     ]
    }
   ],
   "source": [
    "# Analyse the CO2_Emission dataset for any NaN or Null values\n",
    "\n",
    "print(dataframe_CO2Emissions.isnull().sum())\n",
    "print(dataframe_CO2Emissions.info())"
   ]
  },
  {
   "cell_type": "code",
   "execution_count": 6,
   "id": "8456940d",
   "metadata": {},
   "outputs": [],
   "source": [
    "# Filter the target column from dataset and convert the dataframe to numpy\n",
    "\n",
    "target = dataframe_CO2Emissions.iloc[:, 1:2].values"
   ]
  },
  {
   "cell_type": "code",
   "execution_count": 7,
   "id": "c5fd63ba",
   "metadata": {},
   "outputs": [
    {
     "name": "stdout",
     "output_type": "stream",
     "text": [
      "(59, 1)\n"
     ]
    }
   ],
   "source": [
    "print(target.shape)"
   ]
  },
  {
   "cell_type": "markdown",
   "id": "ad82228d",
   "metadata": {},
   "source": [
    "## Data Preprocessing"
   ]
  },
  {
   "cell_type": "code",
   "execution_count": 8,
   "id": "31cc7772",
   "metadata": {},
   "outputs": [
    {
     "data": {
      "text/plain": [
       "(59, 1)"
      ]
     },
     "execution_count": 8,
     "metadata": {},
     "output_type": "execute_result"
    }
   ],
   "source": [
    "# Feature scaling \n",
    "\n",
    "scaler = MinMaxScaler(feature_range=(0,1))\n",
    "training_scaled_data = scaler.fit_transform(target)\n",
    "training_scaled_data.shape"
   ]
  },
  {
   "cell_type": "code",
   "execution_count": 9,
   "id": "b0905833",
   "metadata": {},
   "outputs": [],
   "source": [
    "# Fix the random number seed  so that our results are reproducible.\n",
    "\n",
    "np.random.seed()"
   ]
  },
  {
   "cell_type": "code",
   "execution_count": 10,
   "id": "954a44dc",
   "metadata": {},
   "outputs": [
    {
     "data": {
      "text/plain": [
       "47"
      ]
     },
     "execution_count": 10,
     "metadata": {},
     "output_type": "execute_result"
    }
   ],
   "source": [
    "# Data from 1960-2019: We will split the data into 80% training set and 20% validation set.\n",
    "\n",
    "training_set = int(len(target)* 0.8)\n",
    "training_set"
   ]
  },
  {
   "cell_type": "code",
   "execution_count": 11,
   "id": "6b548ceb",
   "metadata": {},
   "outputs": [],
   "source": [
    "# Filter the scaled train dataset\n",
    "\n",
    "train_data = training_scaled_data[0:training_set , : ]"
   ]
  },
  {
   "cell_type": "code",
   "execution_count": 12,
   "id": "6b977c76",
   "metadata": {},
   "outputs": [
    {
     "data": {
      "text/plain": [
       "(47, 1)"
      ]
     },
     "execution_count": 12,
     "metadata": {},
     "output_type": "execute_result"
    }
   ],
   "source": [
    "train_data.shape"
   ]
  },
  {
   "cell_type": "code",
   "execution_count": 13,
   "id": "ddd77b20",
   "metadata": {},
   "outputs": [],
   "source": [
    "test_data = training_scaled_data[training_set: , : ]"
   ]
  },
  {
   "cell_type": "code",
   "execution_count": 14,
   "id": "1e91fb33",
   "metadata": {},
   "outputs": [
    {
     "data": {
      "text/plain": [
       "(12, 1)"
      ]
     },
     "execution_count": 14,
     "metadata": {},
     "output_type": "execute_result"
    }
   ],
   "source": [
    "test_data.shape"
   ]
  },
  {
   "cell_type": "code",
   "execution_count": 15,
   "id": "c8a22fff",
   "metadata": {},
   "outputs": [],
   "source": [
    "# Train the dataset in the cycle of 4 years, so 1960-1963; 1961-1964 and so on.\n",
    "\n",
    "X_train = []\n",
    "y_train = []\n",
    "memory_range = 4\n",
    "for i in range(memory_range, len(train_data)):\n",
    "    X_train.append(train_data[i-memory_range:i, 0])\n",
    "    y_train.append(train_data[i, 0])\n",
    "\n",
    "    \n",
    "# Converting into numpy sequences to train the LSTM model\n",
    "\n",
    "X_train, y_train = np.array(X_train), np.array(y_train) "
   ]
  },
  {
   "cell_type": "code",
   "execution_count": 16,
   "id": "79b9a979",
   "metadata": {},
   "outputs": [],
   "source": [
    "# Reshape the training data to 3 dimensional for LSTM input.\n",
    "\n",
    "X_train = X_train.reshape(X_train.shape[0],X_train.shape[1] , 1)"
   ]
  },
  {
   "cell_type": "code",
   "execution_count": 17,
   "id": "1aa165bf",
   "metadata": {},
   "outputs": [
    {
     "data": {
      "text/plain": [
       "(43, 4, 1)"
      ]
     },
     "execution_count": 17,
     "metadata": {},
     "output_type": "execute_result"
    }
   ],
   "source": [
    "X_train.shape"
   ]
  },
  {
   "cell_type": "code",
   "execution_count": 18,
   "id": "207f7f47",
   "metadata": {},
   "outputs": [
    {
     "data": {
      "text/plain": [
       "(43,)"
      ]
     },
     "execution_count": 18,
     "metadata": {},
     "output_type": "execute_result"
    }
   ],
   "source": [
    "y_train.shape"
   ]
  },
  {
   "cell_type": "markdown",
   "id": "2df58cf7",
   "metadata": {},
   "source": [
    "## Building the LSTM Model"
   ]
  },
  {
   "cell_type": "code",
   "execution_count": 84,
   "id": "001e37c8",
   "metadata": {},
   "outputs": [
    {
     "name": "stdout",
     "output_type": "stream",
     "text": [
      "Epoch 1/90\n",
      "1/1 [==============================] - 11s 11s/step - loss: 0.0344 - val_loss: 0.1788\n",
      "Epoch 2/90\n",
      "1/1 [==============================] - 0s 54ms/step - loss: 0.0325 - val_loss: 0.1732\n",
      "Epoch 3/90\n",
      "1/1 [==============================] - 0s 55ms/step - loss: 0.0305 - val_loss: 0.1675\n",
      "Epoch 4/90\n",
      "1/1 [==============================] - 0s 55ms/step - loss: 0.0289 - val_loss: 0.1617\n",
      "Epoch 5/90\n",
      "1/1 [==============================] - 0s 56ms/step - loss: 0.0271 - val_loss: 0.1557\n",
      "Epoch 6/90\n",
      "1/1 [==============================] - 0s 58ms/step - loss: 0.0252 - val_loss: 0.1496\n",
      "Epoch 7/90\n",
      "1/1 [==============================] - 0s 59ms/step - loss: 0.0240 - val_loss: 0.1433\n",
      "Epoch 8/90\n",
      "1/1 [==============================] - 0s 54ms/step - loss: 0.0217 - val_loss: 0.1368\n",
      "Epoch 9/90\n",
      "1/1 [==============================] - 0s 57ms/step - loss: 0.0199 - val_loss: 0.1301\n",
      "Epoch 10/90\n",
      "1/1 [==============================] - 0s 58ms/step - loss: 0.0187 - val_loss: 0.1231\n",
      "Epoch 11/90\n",
      "1/1 [==============================] - 0s 54ms/step - loss: 0.0164 - val_loss: 0.1159\n",
      "Epoch 12/90\n",
      "1/1 [==============================] - 0s 56ms/step - loss: 0.0157 - val_loss: 0.1085\n",
      "Epoch 13/90\n",
      "1/1 [==============================] - 0s 57ms/step - loss: 0.0139 - val_loss: 0.1009\n",
      "Epoch 14/90\n",
      "1/1 [==============================] - ETA: 0s - loss: 0.011 - 0s 57ms/step - loss: 0.0119 - val_loss: 0.0932\n",
      "Epoch 15/90\n",
      "1/1 [==============================] - 0s 67ms/step - loss: 0.0121 - val_loss: 0.0854\n",
      "Epoch 16/90\n",
      "1/1 [==============================] - 0s 56ms/step - loss: 0.0120 - val_loss: 0.0776\n",
      "Epoch 17/90\n",
      "1/1 [==============================] - 0s 57ms/step - loss: 0.0105 - val_loss: 0.0699\n",
      "Epoch 18/90\n",
      "1/1 [==============================] - 0s 55ms/step - loss: 0.0097 - val_loss: 0.0626\n",
      "Epoch 19/90\n",
      "1/1 [==============================] - 0s 59ms/step - loss: 0.0090 - val_loss: 0.0559\n",
      "Epoch 20/90\n",
      "1/1 [==============================] - 0s 55ms/step - loss: 0.0103 - val_loss: 0.0503\n",
      "Epoch 21/90\n",
      "1/1 [==============================] - 0s 59ms/step - loss: 0.0089 - val_loss: 0.0459\n",
      "Epoch 22/90\n",
      "1/1 [==============================] - 0s 55ms/step - loss: 0.0108 - val_loss: 0.0434\n",
      "Epoch 23/90\n",
      "1/1 [==============================] - 0s 58ms/step - loss: 0.0099 - val_loss: 0.0423\n",
      "Epoch 24/90\n",
      "1/1 [==============================] - 0s 56ms/step - loss: 0.0099 - val_loss: 0.0419\n",
      "Epoch 25/90\n",
      "1/1 [==============================] - 0s 55ms/step - loss: 0.0103 - val_loss: 0.0425\n",
      "Epoch 26/90\n",
      "1/1 [==============================] - 0s 60ms/step - loss: 0.0109 - val_loss: 0.0440\n",
      "Epoch 27/90\n",
      "1/1 [==============================] - 0s 55ms/step - loss: 0.0076 - val_loss: 0.0458\n",
      "Epoch 28/90\n",
      "1/1 [==============================] - 0s 68ms/step - loss: 0.0079 - val_loss: 0.0478\n",
      "Epoch 29/90\n",
      "1/1 [==============================] - 0s 61ms/step - loss: 0.0103 - val_loss: 0.0501\n",
      "Epoch 30/90\n",
      "1/1 [==============================] - 0s 60ms/step - loss: 0.0077 - val_loss: 0.0522\n",
      "Epoch 31/90\n",
      "1/1 [==============================] - 0s 56ms/step - loss: 0.0089 - val_loss: 0.0545\n",
      "Epoch 32/90\n",
      "1/1 [==============================] - 0s 60ms/step - loss: 0.0075 - val_loss: 0.0566\n",
      "Epoch 33/90\n",
      "1/1 [==============================] - 0s 60ms/step - loss: 0.0077 - val_loss: 0.0584\n",
      "Epoch 34/90\n",
      "1/1 [==============================] - 0s 56ms/step - loss: 0.0080 - val_loss: 0.0599\n",
      "Epoch 35/90\n",
      "1/1 [==============================] - 0s 59ms/step - loss: 0.0092 - val_loss: 0.0609\n",
      "Epoch 36/90\n",
      "1/1 [==============================] - 0s 61ms/step - loss: 0.0089 - val_loss: 0.0615\n",
      "Epoch 37/90\n",
      "1/1 [==============================] - 0s 57ms/step - loss: 0.0097 - val_loss: 0.0617\n",
      "Epoch 38/90\n",
      "1/1 [==============================] - 0s 58ms/step - loss: 0.0080 - val_loss: 0.0613\n",
      "Epoch 39/90\n",
      "1/1 [==============================] - 0s 55ms/step - loss: 0.0069 - val_loss: 0.0605\n",
      "Epoch 40/90\n",
      "1/1 [==============================] - 0s 59ms/step - loss: 0.0082 - val_loss: 0.0592\n",
      "Epoch 41/90\n",
      "1/1 [==============================] - 0s 61ms/step - loss: 0.0084 - val_loss: 0.0574\n",
      "Epoch 42/90\n",
      "1/1 [==============================] - 0s 59ms/step - loss: 0.0082 - val_loss: 0.0550\n",
      "Epoch 43/90\n",
      "1/1 [==============================] - 0s 65ms/step - loss: 0.0073 - val_loss: 0.0522\n",
      "Epoch 44/90\n",
      "1/1 [==============================] - 0s 61ms/step - loss: 0.0079 - val_loss: 0.0489\n",
      "Epoch 45/90\n",
      "1/1 [==============================] - 0s 61ms/step - loss: 0.0070 - val_loss: 0.0454\n",
      "Epoch 46/90\n",
      "1/1 [==============================] - 0s 57ms/step - loss: 0.0073 - val_loss: 0.0417\n",
      "Epoch 47/90\n",
      "1/1 [==============================] - 0s 56ms/step - loss: 0.0069 - val_loss: 0.0379\n",
      "Epoch 48/90\n",
      "1/1 [==============================] - 0s 64ms/step - loss: 0.0078 - val_loss: 0.0344\n",
      "Epoch 49/90\n",
      "1/1 [==============================] - 0s 60ms/step - loss: 0.0061 - val_loss: 0.0310\n",
      "Epoch 50/90\n",
      "1/1 [==============================] - 0s 59ms/step - loss: 0.0054 - val_loss: 0.0276\n",
      "Epoch 51/90\n",
      "1/1 [==============================] - 0s 55ms/step - loss: 0.0054 - val_loss: 0.0243\n",
      "Epoch 52/90\n",
      "1/1 [==============================] - 0s 64ms/step - loss: 0.0056 - val_loss: 0.0212\n",
      "Epoch 53/90\n",
      "1/1 [==============================] - 0s 65ms/step - loss: 0.0055 - val_loss: 0.0186\n",
      "Epoch 54/90\n",
      "1/1 [==============================] - 0s 67ms/step - loss: 0.0045 - val_loss: 0.0163\n",
      "Epoch 55/90\n",
      "1/1 [==============================] - 0s 54ms/step - loss: 0.0033 - val_loss: 0.0146\n",
      "Epoch 56/90\n",
      "1/1 [==============================] - 0s 61ms/step - loss: 0.0031 - val_loss: 0.0130\n",
      "Epoch 57/90\n",
      "1/1 [==============================] - 0s 59ms/step - loss: 0.0038 - val_loss: 0.0113\n",
      "Epoch 58/90\n",
      "1/1 [==============================] - 0s 57ms/step - loss: 0.0029 - val_loss: 0.0094\n",
      "Epoch 59/90\n",
      "1/1 [==============================] - 0s 59ms/step - loss: 0.0025 - val_loss: 0.0073\n",
      "Epoch 60/90\n",
      "1/1 [==============================] - 0s 59ms/step - loss: 0.0016 - val_loss: 0.0053\n",
      "Epoch 61/90\n",
      "1/1 [==============================] - 0s 53ms/step - loss: 0.0020 - val_loss: 0.0032\n",
      "Epoch 62/90\n",
      "1/1 [==============================] - 0s 61ms/step - loss: 0.0013 - val_loss: 0.0013\n",
      "Epoch 63/90\n",
      "1/1 [==============================] - 0s 56ms/step - loss: 0.0022 - val_loss: 2.9317e-04\n",
      "Epoch 64/90\n",
      "1/1 [==============================] - 0s 61ms/step - loss: 8.9805e-04 - val_loss: 8.3497e-04\n",
      "Epoch 65/90\n",
      "1/1 [==============================] - 0s 53ms/step - loss: 7.4007e-04 - val_loss: 0.0028\n",
      "Epoch 66/90\n",
      "1/1 [==============================] - 0s 70ms/step - loss: 0.0018 - val_loss: 0.0057\n",
      "Epoch 67/90\n",
      "1/1 [==============================] - 0s 73ms/step - loss: 0.0010 - val_loss: 0.0089\n",
      "Epoch 68/90\n",
      "1/1 [==============================] - 0s 53ms/step - loss: 0.0024 - val_loss: 0.0095\n",
      "Epoch 69/90\n",
      "1/1 [==============================] - 0s 47ms/step - loss: 7.8065e-04 - val_loss: 0.0087\n",
      "Epoch 70/90\n",
      "1/1 [==============================] - 0s 51ms/step - loss: 0.0018 - val_loss: 0.0086\n",
      "Epoch 71/90\n",
      "1/1 [==============================] - 0s 60ms/step - loss: 0.0015 - val_loss: 0.0087\n",
      "Epoch 72/90\n",
      "1/1 [==============================] - 0s 62ms/step - loss: 0.0011 - val_loss: 0.0087\n",
      "Epoch 73/90\n",
      "1/1 [==============================] - 0s 70ms/step - loss: 0.0018 - val_loss: 0.0083\n",
      "Epoch 74/90\n",
      "1/1 [==============================] - 0s 59ms/step - loss: 0.0010 - val_loss: 0.0077\n",
      "Epoch 75/90\n",
      "1/1 [==============================] - 0s 56ms/step - loss: 9.5764e-04 - val_loss: 0.0076\n",
      "Epoch 76/90\n",
      "1/1 [==============================] - 0s 58ms/step - loss: 0.0021 - val_loss: 0.0058\n",
      "Epoch 77/90\n",
      "1/1 [==============================] - 0s 54ms/step - loss: 0.0011 - val_loss: 0.0039\n",
      "Epoch 78/90\n",
      "1/1 [==============================] - 0s 56ms/step - loss: 0.0013 - val_loss: 0.0030\n",
      "Epoch 79/90\n",
      "1/1 [==============================] - 0s 56ms/step - loss: 0.0013 - val_loss: 0.0020\n",
      "Epoch 80/90\n",
      "1/1 [==============================] - 0s 63ms/step - loss: 9.5906e-04 - val_loss: 0.0012\n",
      "Epoch 81/90\n",
      "1/1 [==============================] - 0s 53ms/step - loss: 0.0012 - val_loss: 8.2351e-04\n",
      "Epoch 82/90\n",
      "1/1 [==============================] - 0s 56ms/step - loss: 0.0011 - val_loss: 5.7134e-04\n",
      "Epoch 83/90\n",
      "1/1 [==============================] - 0s 62ms/step - loss: 6.4238e-04 - val_loss: 4.4212e-04\n"
     ]
    },
    {
     "name": "stdout",
     "output_type": "stream",
     "text": [
      "Epoch 84/90\n",
      "1/1 [==============================] - 0s 59ms/step - loss: 0.0012 - val_loss: 5.0294e-04\n",
      "Epoch 85/90\n",
      "1/1 [==============================] - 0s 54ms/step - loss: 9.5007e-04 - val_loss: 5.6694e-04\n",
      "Epoch 86/90\n",
      "1/1 [==============================] - 0s 50ms/step - loss: 0.0010 - val_loss: 4.3871e-04\n",
      "Epoch 87/90\n",
      "1/1 [==============================] - 0s 54ms/step - loss: 9.7332e-04 - val_loss: 3.1743e-04\n",
      "Epoch 88/90\n",
      "1/1 [==============================] - 0s 53ms/step - loss: 0.0011 - val_loss: 2.6578e-04\n",
      "Epoch 89/90\n",
      "1/1 [==============================] - 0s 52ms/step - loss: 9.2773e-04 - val_loss: 2.6239e-04\n",
      "Epoch 90/90\n",
      "1/1 [==============================] - 0s 59ms/step - loss: 7.8605e-04 - val_loss: 2.6612e-04\n"
     ]
    },
    {
     "data": {
      "text/plain": [
       "<keras.callbacks.History at 0x1f96a6f6c10>"
      ]
     },
     "execution_count": 84,
     "metadata": {},
     "output_type": "execute_result"
    }
   ],
   "source": [
    "model = Sequential()\n",
    "\n",
    "# We use dropout to avoid over-fitting.\n",
    "\n",
    "#Adding the first LSTM layer with 10% dropout regularisation\n",
    "model.add(LSTM(100, return_sequences = True, input_shape = (X_train.shape[1], 1)))\n",
    "model.add(Dropout(0.2))\n",
    "\n",
    "# Adding a second LSTM layer\n",
    "model.add(LSTM(units = 100, return_sequences = True))\n",
    "model.add(Dropout(0.2))\n",
    "\n",
    "# Adding a third LSTM layer\n",
    "model.add(LSTM(units = 95, return_sequences = True))\n",
    "model.add(Dropout(0.2))\n",
    "\n",
    "# Adding a fourth LSTM layer\n",
    "model.add(LSTM(units = 90))\n",
    "model.add(Dropout(0.2))\n",
    "\n",
    "# Adding a fifth LSTM layer\n",
    "model.add(LSTM(units = 90))\n",
    "model.add(Dropout(0.2))\n",
    "\n",
    "# Adding a sixth LSTM layer\n",
    "model.add(LSTM(units = 80))\n",
    "model.add(Dropout(0.1))\n",
    "\n",
    "# Adding the output layer\n",
    "model.add(Dense(units = 1))\n",
    "\n",
    "# Compiling the RNN\n",
    "model.compile(optimizer = 'Adam', loss = 'mean_squared_error')\n",
    "\n",
    "# Fitting the RNN to the Training set\n",
    "model.fit(X_train,y_train, epochs = 90, batch_size = 64, validation_split=0.2)"
   ]
  },
  {
   "cell_type": "code",
   "execution_count": 85,
   "id": "16bebe4e",
   "metadata": {},
   "outputs": [],
   "source": [
    "# Construct the metrics for the LSTM model\n",
    "\n",
    "metrics = pd.DataFrame(model.history.history)"
   ]
  },
  {
   "cell_type": "code",
   "execution_count": 86,
   "id": "e5438d84",
   "metadata": {},
   "outputs": [
    {
     "data": {
      "text/html": [
       "<div>\n",
       "<style scoped>\n",
       "    .dataframe tbody tr th:only-of-type {\n",
       "        vertical-align: middle;\n",
       "    }\n",
       "\n",
       "    .dataframe tbody tr th {\n",
       "        vertical-align: top;\n",
       "    }\n",
       "\n",
       "    .dataframe thead th {\n",
       "        text-align: right;\n",
       "    }\n",
       "</style>\n",
       "<table border=\"1\" class=\"dataframe\">\n",
       "  <thead>\n",
       "    <tr style=\"text-align: right;\">\n",
       "      <th></th>\n",
       "      <th>loss</th>\n",
       "      <th>val_loss</th>\n",
       "    </tr>\n",
       "  </thead>\n",
       "  <tbody>\n",
       "    <tr>\n",
       "      <th>0</th>\n",
       "      <td>0.034432</td>\n",
       "      <td>0.178799</td>\n",
       "    </tr>\n",
       "    <tr>\n",
       "      <th>1</th>\n",
       "      <td>0.032549</td>\n",
       "      <td>0.173165</td>\n",
       "    </tr>\n",
       "    <tr>\n",
       "      <th>2</th>\n",
       "      <td>0.030463</td>\n",
       "      <td>0.167468</td>\n",
       "    </tr>\n",
       "    <tr>\n",
       "      <th>3</th>\n",
       "      <td>0.028897</td>\n",
       "      <td>0.161666</td>\n",
       "    </tr>\n",
       "    <tr>\n",
       "      <th>4</th>\n",
       "      <td>0.027115</td>\n",
       "      <td>0.155720</td>\n",
       "    </tr>\n",
       "  </tbody>\n",
       "</table>\n",
       "</div>"
      ],
      "text/plain": [
       "       loss  val_loss\n",
       "0  0.034432  0.178799\n",
       "1  0.032549  0.173165\n",
       "2  0.030463  0.167468\n",
       "3  0.028897  0.161666\n",
       "4  0.027115  0.155720"
      ]
     },
     "execution_count": 86,
     "metadata": {},
     "output_type": "execute_result"
    }
   ],
   "source": [
    "metrics.head()"
   ]
  },
  {
   "cell_type": "code",
   "execution_count": 87,
   "id": "f8590c35",
   "metadata": {},
   "outputs": [
    {
     "data": {
      "text/plain": [
       "Text(0, 0.5, 'Loss')"
      ]
     },
     "execution_count": 87,
     "metadata": {},
     "output_type": "execute_result"
    },
    {
     "data": {
      "image/png": "[encoded data removed]",
      "text/plain": [
       "<Figure size 864x360 with 1 Axes>"
      ]
     },
     "metadata": {
      "needs_background": "light"
     },
     "output_type": "display_data"
    }
   ],
   "source": [
    "# Plot the loss of LSTM model \n",
    "\n",
    "metrics[['loss','val_loss']].plot(figsize=(12, 5))\n",
    "plt.title(\"Loss Vs Val_loss\")\n",
    "plt.xlabel('Epochs')\n",
    "plt.ylabel('Loss')"
   ]
  },
  {
   "cell_type": "code",
   "execution_count": 105,
   "id": "74a8d429",
   "metadata": {},
   "outputs": [],
   "source": [
    "# Prepare the test data for validation\n",
    "\n",
    "test_data = training_scaled_data[training_set - memory_range: , : ]\n",
    "\n",
    "#Create the x_test and y_test data sets\n",
    "\n",
    "X_test = []\n",
    "y_test =  target[training_set : , : ]\n",
    "for i in range(memory_range, len(test_data)):\n",
    "    X_test.append(test_data[i-memory_range:i,0])\n",
    "\n",
    "# Convert x_test to a numpy array\n",
    "\n",
    "X_test = np.array(X_test)"
   ]
  },
  {
   "cell_type": "code",
   "execution_count": 106,
   "id": "b03c3a38",
   "metadata": {},
   "outputs": [],
   "source": [
    "# Reshape the test data to 3 dimensional shape accepted by the LSTM\n",
    "\n",
    "X_test = np.reshape(X_test, (X_test.shape[0],X_test.shape[1],1))"
   ]
  },
  {
   "cell_type": "code",
   "execution_count": 107,
   "id": "23eaacae",
   "metadata": {},
   "outputs": [
    {
     "data": {
      "text/plain": [
       "(12, 4, 1)"
      ]
     },
     "execution_count": 107,
     "metadata": {},
     "output_type": "execute_result"
    }
   ],
   "source": [
    "X_test.shape"
   ]
  },
  {
   "cell_type": "code",
   "execution_count": 108,
   "id": "dcd31332",
   "metadata": {},
   "outputs": [
    {
     "data": {
      "text/plain": [
       "array([[[0.42183238],\n",
       "        [0.45346921],\n",
       "        [0.47237275],\n",
       "        [0.50529306]],\n",
       "\n",
       "       [[0.45346921],\n",
       "        [0.47237275],\n",
       "        [0.50529306],\n",
       "        [0.56232053]],\n",
       "\n",
       "       [[0.47237275],\n",
       "        [0.50529306],\n",
       "        [0.56232053],\n",
       "        [0.59931851]],\n",
       "\n",
       "       [[0.50529306],\n",
       "        [0.56232053],\n",
       "        [0.59931851],\n",
       "        [0.66600485]],\n",
       "\n",
       "       [[0.56232053],\n",
       "        [0.59931851],\n",
       "        [0.66600485],\n",
       "        [0.70590422]],\n",
       "\n",
       "       [[0.59931851],\n",
       "        [0.66600485],\n",
       "        [0.70590422],\n",
       "        [0.74447717]],\n",
       "\n",
       "       [[0.66600485],\n",
       "        [0.70590422],\n",
       "        [0.74447717],\n",
       "        [0.80942035]],\n",
       "\n",
       "       [[0.70590422],\n",
       "        [0.74447717],\n",
       "        [0.80942035],\n",
       "        [0.82752454]],\n",
       "\n",
       "       [[0.74447717],\n",
       "        [0.80942035],\n",
       "        [0.82752454],\n",
       "        [0.90177602]],\n",
       "\n",
       "       [[0.80942035],\n",
       "        [0.82752454],\n",
       "        [0.90177602],\n",
       "        [0.89647046]],\n",
       "\n",
       "       [[0.82752454],\n",
       "        [0.90177602],\n",
       "        [0.89647046],\n",
       "        [0.90114394]],\n",
       "\n",
       "       [[0.90177602],\n",
       "        [0.89647046],\n",
       "        [0.90114394],\n",
       "        [0.9473726 ]]])"
      ]
     },
     "execution_count": 108,
     "metadata": {},
     "output_type": "execute_result"
    }
   ],
   "source": [
    "X_test"
   ]
  },
  {
   "cell_type": "code",
   "execution_count": 109,
   "id": "b493cb8f",
   "metadata": {},
   "outputs": [
    {
     "data": {
      "text/plain": [
       "(12, 1)"
      ]
     },
     "execution_count": 109,
     "metadata": {},
     "output_type": "execute_result"
    }
   ],
   "source": [
    "y_test.shape"
   ]
  },
  {
   "cell_type": "code",
   "execution_count": 110,
   "id": "0394c362",
   "metadata": {},
   "outputs": [],
   "source": [
    "# Prediction with the prepared LSTM model\n",
    "\n",
    "predicted_CO2 = model.predict(X_test)\n",
    "\n",
    "# Inverse scaling of predicted values to original scale\n",
    "\n",
    "predicted_CO2 = scaler.inverse_transform(predicted_CO2)"
   ]
  },
  {
   "cell_type": "code",
   "execution_count": 111,
   "id": "56dc4302",
   "metadata": {},
   "outputs": [
    {
     "data": {
      "text/plain": [
       "array([[1.0324795],\n",
       "       [1.0843256],\n",
       "       [1.1343427],\n",
       "       [1.2061706],\n",
       "       [1.292776 ],\n",
       "       [1.3665297],\n",
       "       [1.4513861],\n",
       "       [1.5119381],\n",
       "       [1.5738515],\n",
       "       [1.6404002],\n",
       "       [1.6797453],\n",
       "       [1.7322289]], dtype=float32)"
      ]
     },
     "execution_count": 111,
     "metadata": {},
     "output_type": "execute_result"
    }
   ],
   "source": [
    "predicted_CO2"
   ]
  },
  {
   "cell_type": "code",
   "execution_count": 112,
   "id": "b0d691ae",
   "metadata": {},
   "outputs": [
    {
     "data": {
      "text/plain": [
       "(12, 1)"
      ]
     },
     "execution_count": 112,
     "metadata": {},
     "output_type": "execute_result"
    }
   ],
   "source": [
    "y_test.shape"
   ]
  },
  {
   "cell_type": "markdown",
   "id": "00c9aa6c",
   "metadata": {},
   "source": [
    "## Test Accuracy of LSTM Model "
   ]
  },
  {
   "cell_type": "code",
   "execution_count": 113,
   "id": "58ac39bd",
   "metadata": {},
   "outputs": [
    {
     "name": "stdout",
     "output_type": "stream",
     "text": [
      "The Mean Absoulte Error is: 9.632002050009666\n"
     ]
    }
   ],
   "source": [
    "# Determine the Mean Absoulute Error\n",
    "\n",
    "m = mean_absolute_error(y_test,predicted_CO2)\n",
    "print(\"The Mean Absoulte Error is:\", m*100)"
   ]
  },
  {
   "cell_type": "code",
   "execution_count": 117,
   "id": "50c605e0",
   "metadata": {},
   "outputs": [
    {
     "name": "stdout",
     "output_type": "stream",
     "text": [
      "Root Mean Absoulute Error is: 10.558225470372857\n"
     ]
    }
   ],
   "source": [
    "# Determine the Root Mean Absoulute Error\n",
    "\n",
    "from math import sqrt\n",
    "a = sqrt(mean_squared_error(y_test,predicted_CO2))\n",
    "print(\"Root Mean Absoulute Error is:\", a*100)"
   ]
  },
  {
   "cell_type": "code",
   "execution_count": 118,
   "id": "d4d3e5fd",
   "metadata": {},
   "outputs": [
    {
     "data": {
      "image/png": "[encoded data removed]",
      "text/plain": [
       "<Figure size 720x360 with 1 Axes>"
      ]
     },
     "metadata": {
      "needs_background": "light"
     },
     "output_type": "display_data"
    }
   ],
   "source": [
    "# Plot the train, predicted and validated data set\n",
    "\n",
    "train = dataframe_CO2Emissions[:training_set+1]\n",
    "valid = dataframe_CO2Emissions[training_set:]\n",
    "valid['Predictions'] = predicted_CO2\n",
    "plt.figure(figsize=(10,5))\n",
    "plt.title('India CO2 Emissions Prediction Model')\n",
    "plt.xlabel('Date', fontsize=12)\n",
    "plt.ylabel('CO2 emissions', fontsize=12)\n",
    "plt.plot(train['CO2 emissions'])\n",
    "plt.plot(valid[['CO2 emissions', 'Predictions']])\n",
    "plt.legend(['Train', 'Valid', 'Predictions'], loc='lower right')\n",
    "plt.show()"
   ]
  },
  {
   "cell_type": "code",
   "execution_count": 119,
   "id": "2db3c3b9",
   "metadata": {},
   "outputs": [
    {
     "data": {
      "text/html": [
       "<div>\n",
       "<style scoped>\n",
       "    .dataframe tbody tr th:only-of-type {\n",
       "        vertical-align: middle;\n",
       "    }\n",
       "\n",
       "    .dataframe tbody tr th {\n",
       "        vertical-align: top;\n",
       "    }\n",
       "\n",
       "    .dataframe thead th {\n",
       "        text-align: right;\n",
       "    }\n",
       "</style>\n",
       "<table border=\"1\" class=\"dataframe\">\n",
       "  <thead>\n",
       "    <tr style=\"text-align: right;\">\n",
       "      <th></th>\n",
       "      <th>Year</th>\n",
       "      <th>CO2 emissions</th>\n",
       "      <th>Predictions</th>\n",
       "    </tr>\n",
       "  </thead>\n",
       "  <tbody>\n",
       "    <tr>\n",
       "      <th>47</th>\n",
       "      <td>2007</td>\n",
       "      <td>1.129217</td>\n",
       "      <td>1.032480</td>\n",
       "    </tr>\n",
       "    <tr>\n",
       "      <th>48</th>\n",
       "      <td>2008</td>\n",
       "      <td>1.185905</td>\n",
       "      <td>1.084326</td>\n",
       "    </tr>\n",
       "    <tr>\n",
       "      <th>49</th>\n",
       "      <td>2009</td>\n",
       "      <td>1.288081</td>\n",
       "      <td>1.134343</td>\n",
       "    </tr>\n",
       "    <tr>\n",
       "      <th>50</th>\n",
       "      <td>2010</td>\n",
       "      <td>1.349214</td>\n",
       "      <td>1.206171</td>\n",
       "    </tr>\n",
       "    <tr>\n",
       "      <th>51</th>\n",
       "      <td>2011</td>\n",
       "      <td>1.408316</td>\n",
       "      <td>1.292776</td>\n",
       "    </tr>\n",
       "    <tr>\n",
       "      <th>52</th>\n",
       "      <td>2012</td>\n",
       "      <td>1.507821</td>\n",
       "      <td>1.366530</td>\n",
       "    </tr>\n",
       "    <tr>\n",
       "      <th>53</th>\n",
       "      <td>2013</td>\n",
       "      <td>1.535560</td>\n",
       "      <td>1.451386</td>\n",
       "    </tr>\n",
       "    <tr>\n",
       "      <th>54</th>\n",
       "      <td>2014</td>\n",
       "      <td>1.649328</td>\n",
       "      <td>1.511938</td>\n",
       "    </tr>\n",
       "    <tr>\n",
       "      <th>55</th>\n",
       "      <td>2015</td>\n",
       "      <td>1.641198</td>\n",
       "      <td>1.573851</td>\n",
       "    </tr>\n",
       "    <tr>\n",
       "      <th>56</th>\n",
       "      <td>2016</td>\n",
       "      <td>1.648359</td>\n",
       "      <td>1.640400</td>\n",
       "    </tr>\n",
       "    <tr>\n",
       "      <th>57</th>\n",
       "      <td>2017</td>\n",
       "      <td>1.719190</td>\n",
       "      <td>1.679745</td>\n",
       "    </tr>\n",
       "    <tr>\n",
       "      <th>58</th>\n",
       "      <td>2018</td>\n",
       "      <td>1.799825</td>\n",
       "      <td>1.732229</td>\n",
       "    </tr>\n",
       "  </tbody>\n",
       "</table>\n",
       "</div>"
      ],
      "text/plain": [
       "    Year  CO2 emissions  Predictions\n",
       "47  2007       1.129217     1.032480\n",
       "48  2008       1.185905     1.084326\n",
       "49  2009       1.288081     1.134343\n",
       "50  2010       1.349214     1.206171\n",
       "51  2011       1.408316     1.292776\n",
       "52  2012       1.507821     1.366530\n",
       "53  2013       1.535560     1.451386\n",
       "54  2014       1.649328     1.511938\n",
       "55  2015       1.641198     1.573851\n",
       "56  2016       1.648359     1.640400\n",
       "57  2017       1.719190     1.679745\n",
       "58  2018       1.799825     1.732229"
      ]
     },
     "execution_count": 119,
     "metadata": {},
     "output_type": "execute_result"
    }
   ],
   "source": [
    "valid"
   ]
  },
  {
   "cell_type": "markdown",
   "id": "ccec887b",
   "metadata": {},
   "source": [
    "## Forecasting CO2 Emissions "
   ]
  },
  {
   "cell_type": "code",
   "execution_count": 120,
   "id": "7e3b3b88",
   "metadata": {},
   "outputs": [],
   "source": [
    "# Forecasting CO2 Emissions over the entire data set with the LSTM Model\n",
    "\n",
    "dataframe_CO2Emissionstest = pd.read_csv('CO2_Emissions_India.csv')"
   ]
  },
  {
   "cell_type": "code",
   "execution_count": 121,
   "id": "2424f352",
   "metadata": {},
   "outputs": [],
   "source": [
    "# We will use the cycle of 4 years, so will add initial 4 years to prevent data truncation\n",
    "\n",
    "test_datafadd = dataframe_CO2Emissionstest.head(4)\n",
    "test_datafadd = pd.concat([test_datafadd, dataframe_CO2Emissionstest])"
   ]
  },
  {
   "cell_type": "code",
   "execution_count": 122,
   "id": "21a8e7a4",
   "metadata": {},
   "outputs": [
    {
     "data": {
      "text/plain": [
       "(63, 1)"
      ]
     },
     "execution_count": 122,
     "metadata": {},
     "output_type": "execute_result"
    }
   ],
   "source": [
    "# Feature scaling of dataset\n",
    "\n",
    "targetf = test_datafadd.iloc[:, 1:2].values\n",
    "test_scaled_data = scaler.fit_transform(targetf)\n",
    "test_scaled_data.shape"
   ]
  },
  {
   "cell_type": "code",
   "execution_count": 123,
   "id": "d1833cc4",
   "metadata": {},
   "outputs": [],
   "source": [
    "test_dataf = test_scaled_data[: , : ]"
   ]
  },
  {
   "cell_type": "code",
   "execution_count": 124,
   "id": "1dadad51",
   "metadata": {},
   "outputs": [
    {
     "name": "stdout",
     "output_type": "stream",
     "text": [
      "Number of rows and columns:  (59, 4, 1)\n"
     ]
    }
   ],
   "source": [
    "# Prepare the test data for forecasting\n",
    "\n",
    "full_model = test_scaled_data[: , : ]\n",
    "\n",
    "#Create the x_test and y_test data sets\n",
    "\n",
    "Xf_test = []\n",
    "yf_test =  target[: , : ]\n",
    "\n",
    "for i in range(memory_range, len(test_dataf)):\n",
    "    Xf_test.append(test_dataf[i-memory_range:i,0])\n",
    "\n",
    "# Convert x_test to a numpy array\n",
    "\n",
    "Xf_test = np.array(Xf_test)\n",
    "\n",
    "#Reshape the data into the shape accepted by the LSTM\n",
    "\n",
    "Xf_test = Xf_test.reshape(Xf_test.shape[0],Xf_test.shape[1] , 1)\n",
    "print('Number of rows and columns: ', Xf_test.shape)"
   ]
  },
  {
   "cell_type": "code",
   "execution_count": 125,
   "id": "7866cfea",
   "metadata": {},
   "outputs": [
    {
     "data": {
      "text/plain": [
       "(59, 4, 1)"
      ]
     },
     "execution_count": 125,
     "metadata": {},
     "output_type": "execute_result"
    }
   ],
   "source": [
    "Xf_test.shape"
   ]
  },
  {
   "cell_type": "code",
   "execution_count": 126,
   "id": "6fa78b30",
   "metadata": {},
   "outputs": [
    {
     "data": {
      "text/plain": [
       "(59, 4, 1)"
      ]
     },
     "execution_count": 126,
     "metadata": {},
     "output_type": "execute_result"
    }
   ],
   "source": [
    "Xf_test.shape"
   ]
  },
  {
   "cell_type": "code",
   "execution_count": 127,
   "id": "f4e22f4a",
   "metadata": {},
   "outputs": [
    {
     "data": {
      "text/plain": [
       "(59, 1)"
      ]
     },
     "execution_count": 127,
     "metadata": {},
     "output_type": "execute_result"
    }
   ],
   "source": [
    "yf_test.shape"
   ]
  },
  {
   "cell_type": "code",
   "execution_count": 128,
   "id": "9ce32f4a",
   "metadata": {},
   "outputs": [],
   "source": [
    "# Prediction of entire dataset using LSTM model\n",
    "\n",
    "predicted_CO2f = model.predict(Xf_test)\n",
    "predicted_CO2f = scaler.inverse_transform(predicted_CO2f)"
   ]
  },
  {
   "cell_type": "code",
   "execution_count": 129,
   "id": "034f5eaf",
   "metadata": {},
   "outputs": [
    {
     "data": {
      "image/png": "[encoded data removed]",
      "text/plain": [
       "<Figure size 720x360 with 1 Axes>"
      ]
     },
     "metadata": {
      "needs_background": "light"
     },
     "output_type": "display_data"
    }
   ],
   "source": [
    "# Plot the original and predicted CO2 emissions set\n",
    "\n",
    "pd.options.mode.chained_assignment = None \n",
    "train = dataframe_CO2Emissions[:]\n",
    "valid = dataframe_CO2Emissions[:]\n",
    "valid['Predictions'] = predicted_CO2f\n",
    "plt.figure(figsize=(10,5))\n",
    "plt.title('India CO2 Emissions Prediction Model')\n",
    "plt.xlabel('Date', fontsize=12)\n",
    "plt.ylabel('CO2 emissions', fontsize=12)\n",
    "plt.plot(train['CO2 emissions'])\n",
    "plt.plot(valid[['Predictions']])\n",
    "plt.legend(['Original', 'Predictions'], loc='lower right')\n",
    "plt.show()"
   ]
  },
  {
   "cell_type": "code",
   "execution_count": 130,
   "id": "873e1f28",
   "metadata": {},
   "outputs": [
    {
     "data": {
      "text/plain": [
       "(59, 1)"
      ]
     },
     "execution_count": 130,
     "metadata": {},
     "output_type": "execute_result"
    }
   ],
   "source": [
    "predicted_CO2f.shape"
   ]
  },
  {
   "cell_type": "code",
   "execution_count": 146,
   "id": "d7f59e7b",
   "metadata": {},
   "outputs": [
    {
     "name": "stdout",
     "output_type": "stream",
     "text": [
      "Root Mean Absoulute Error is: 5.5433407747519166\n"
     ]
    }
   ],
   "source": [
    "# Accuracy for the entire data set by predicted model\n",
    "\n",
    "q = sqrt(mean_squared_error(yf_test,predicted_CO2f))\n",
    "print(\"Root Mean Absoulute Error is:\", q*100)"
   ]
  },
  {
   "cell_type": "code",
   "execution_count": 147,
   "id": "d5cc4732",
   "metadata": {},
   "outputs": [
    {
     "data": {
      "text/html": [
       "<div>\n",
       "<style scoped>\n",
       "    .dataframe tbody tr th:only-of-type {\n",
       "        vertical-align: middle;\n",
       "    }\n",
       "\n",
       "    .dataframe tbody tr th {\n",
       "        vertical-align: top;\n",
       "    }\n",
       "\n",
       "    .dataframe thead th {\n",
       "        text-align: right;\n",
       "    }\n",
       "</style>\n",
       "<table border=\"1\" class=\"dataframe\">\n",
       "  <thead>\n",
       "    <tr style=\"text-align: right;\">\n",
       "      <th></th>\n",
       "      <th>Year</th>\n",
       "      <th>CO2 emissions</th>\n",
       "      <th>Predictions</th>\n",
       "    </tr>\n",
       "  </thead>\n",
       "  <tbody>\n",
       "    <tr>\n",
       "      <th>55</th>\n",
       "      <td>2015</td>\n",
       "      <td>1.641198</td>\n",
       "      <td>1.573851</td>\n",
       "    </tr>\n",
       "    <tr>\n",
       "      <th>56</th>\n",
       "      <td>2016</td>\n",
       "      <td>1.648359</td>\n",
       "      <td>1.640400</td>\n",
       "    </tr>\n",
       "    <tr>\n",
       "      <th>57</th>\n",
       "      <td>2017</td>\n",
       "      <td>1.719190</td>\n",
       "      <td>1.679745</td>\n",
       "    </tr>\n",
       "    <tr>\n",
       "      <th>58</th>\n",
       "      <td>2018</td>\n",
       "      <td>1.799825</td>\n",
       "      <td>1.732229</td>\n",
       "    </tr>\n",
       "  </tbody>\n",
       "</table>\n",
       "</div>"
      ],
      "text/plain": [
       "    Year  CO2 emissions  Predictions\n",
       "55  2015       1.641198     1.573851\n",
       "56  2016       1.648359     1.640400\n",
       "57  2017       1.719190     1.679745\n",
       "58  2018       1.799825     1.732229"
      ]
     },
     "execution_count": 147,
     "metadata": {},
     "output_type": "execute_result"
    }
   ],
   "source": [
    "valid.tail(4)"
   ]
  },
  {
   "cell_type": "code",
   "execution_count": null,
   "id": "270ad3a5",
   "metadata": {},
   "outputs": [],
   "source": []
  },
  {
   "cell_type": "markdown",
   "id": "db21734d",
   "metadata": {},
   "source": [
    "## Forecasting the Future CO2 Emissions"
   ]
  },
  {
   "cell_type": "code",
   "execution_count": 148,
   "id": "53b340b1",
   "metadata": {},
   "outputs": [],
   "source": [
    "target2 = target"
   ]
  },
  {
   "cell_type": "code",
   "execution_count": 149,
   "id": "768ab187",
   "metadata": {},
   "outputs": [],
   "source": [
    "# Feature scaling\n",
    "\n",
    "target2 = scaler.fit_transform(target2)"
   ]
  },
  {
   "cell_type": "code",
   "execution_count": 150,
   "id": "36d294bf",
   "metadata": {},
   "outputs": [
    {
     "data": {
      "text/plain": [
       "(59,)"
      ]
     },
     "execution_count": 150,
     "metadata": {},
     "output_type": "execute_result"
    }
   ],
   "source": [
    "# Reshape the dataset to used for input in loop\n",
    "\n",
    "target2 = target2.reshape((-1))\n",
    "target2.shape"
   ]
  },
  {
   "cell_type": "code",
   "execution_count": 171,
   "id": "dd23b9f8",
   "metadata": {},
   "outputs": [],
   "source": [
    "# Create a loop for LSTM model input\n",
    "\n",
    "# Here, the new data generated will be used as input for next year forecast\n",
    "\n",
    "# Memory_range is the input years for forecasting\n",
    "\n",
    "memory_range = 4\n",
    "def predict(num_prediction, model):\n",
    "    prediction_list = target2[-memory_range:]\n",
    "    \n",
    "    for i in range(num_prediction):\n",
    "        x = prediction_list[-memory_range:]\n",
    "        x = x.reshape((1, memory_range, 1))\n",
    "        out = model.predict(x)[0][0]\n",
    "        prediction_list = np.append(prediction_list, out)\n",
    "    prediction_list = prediction_list[memory_range-1:]\n",
    "        \n",
    "    return prediction_list\n",
    "\n",
    "\n",
    "# For 4 years of future CO2 prediction\n",
    "\n",
    "num_prediction = 4\n",
    "forecast = predict(num_prediction, model)"
   ]
  },
  {
   "cell_type": "code",
   "execution_count": 172,
   "id": "5fd07c33",
   "metadata": {},
   "outputs": [],
   "source": [
    "#prediction_list = target2[-memory_range:]\n",
    "#prediction_list"
   ]
  },
  {
   "cell_type": "code",
   "execution_count": 173,
   "id": "7301a3e3",
   "metadata": {},
   "outputs": [
    {
     "data": {
      "text/plain": [
       "array([1.        , 0.9588573 , 0.97407413, 1.00212991, 1.01749873])"
      ]
     },
     "execution_count": 173,
     "metadata": {},
     "output_type": "execute_result"
    }
   ],
   "source": [
    "# Predicted scaled CO2 emissions of future 4 years\n",
    "\n",
    "forecast"
   ]
  },
  {
   "cell_type": "code",
   "execution_count": 174,
   "id": "2350d8ab",
   "metadata": {},
   "outputs": [
    {
     "data": {
      "text/plain": [
       "(5,)"
      ]
     },
     "execution_count": 174,
     "metadata": {},
     "output_type": "execute_result"
    }
   ],
   "source": [
    "forecast.shape"
   ]
  },
  {
   "cell_type": "code",
   "execution_count": 175,
   "id": "9d4b53b9",
   "metadata": {},
   "outputs": [
    {
     "data": {
      "text/plain": [
       "(5, 1)"
      ]
     },
     "execution_count": 175,
     "metadata": {},
     "output_type": "execute_result"
    }
   ],
   "source": [
    "# Reshape the forecast for inverse scaling to original values\n",
    "\n",
    "forecast = forecast.reshape(forecast.shape[0], 1)\n",
    "forecast.shape"
   ]
  },
  {
   "cell_type": "code",
   "execution_count": 176,
   "id": "9d1c1334",
   "metadata": {},
   "outputs": [],
   "source": [
    "forecast = scaler.inverse_transform(forecast)"
   ]
  },
  {
   "cell_type": "markdown",
   "id": "a60d3417",
   "metadata": {},
   "source": [
    "## Future CO2 Emissions"
   ]
  },
  {
   "cell_type": "code",
   "execution_count": 177,
   "id": "5a49794f",
   "metadata": {},
   "outputs": [
    {
     "data": {
      "text/plain": [
       "array([[1.79982545],\n",
       "       [1.73678696],\n",
       "       [1.76010205],\n",
       "       [1.80308888],\n",
       "       [1.82663685]])"
      ]
     },
     "execution_count": 177,
     "metadata": {},
     "output_type": "execute_result"
    }
   ],
   "source": [
    "# The future CO2 Emissions for 2019, 2020, 2021, 2022 respectively. \n",
    "\n",
    "forecast"
   ]
  },
  {
   "cell_type": "code",
   "execution_count": 178,
   "id": "04f12f52",
   "metadata": {},
   "outputs": [],
   "source": [
    "# Add to the previous predicted dataset\n",
    "\n",
    "add = np.append(predicted_CO2f, forecast)"
   ]
  },
  {
   "cell_type": "code",
   "execution_count": 179,
   "id": "548c5f2b",
   "metadata": {},
   "outputs": [
    {
     "data": {
      "text/plain": [
       "(64,)"
      ]
     },
     "execution_count": 179,
     "metadata": {},
     "output_type": "execute_result"
    }
   ],
   "source": [
    "add.shape"
   ]
  },
  {
   "cell_type": "code",
   "execution_count": 180,
   "id": "a6455dee",
   "metadata": {},
   "outputs": [
    {
     "data": {
      "text/plain": [
       "<matplotlib.legend.Legend at 0x1f990e17610>"
      ]
     },
     "execution_count": 180,
     "metadata": {},
     "output_type": "execute_result"
    },
    {
     "data": {
      "image/png": "[encoded data removed]",
      "text/plain": [
       "<Figure size 720x360 with 1 Axes>"
      ]
     },
     "metadata": {
      "needs_background": "light"
     },
     "output_type": "display_data"
    }
   ],
   "source": [
    "# Plot the original and LSTM forecasting CO2 emissions\n",
    "\n",
    "plt.figure(figsize=(10,5))\n",
    "plt.title('India CO2 Emissions using LSTM Forecasting Model')\n",
    "plt.plot(train['CO2 emissions'])\n",
    "plt.plot(add)\n",
    "plt.xlabel('Time', fontsize=12)\n",
    "plt.ylabel('CO2 emissions', fontsize=12)\n",
    "plt.legend(['Original', 'Predictions'], loc='lower right')"
   ]
  },
  {
   "cell_type": "code",
   "execution_count": null,
   "id": "fdc47927",
   "metadata": {},
   "outputs": [],
   "source": []
  },
  {
   "cell_type": "code",
   "execution_count": null,
   "id": "9676c36a",
   "metadata": {},
   "outputs": [],
   "source": []
  }
 ],
 "metadata": {
  "kernelspec": {
   "display_name": "Python 3 (ipykernel)",
   "language": "python",
   "name": "python3"
  },
  "language_info": {
   "codemirror_mode": {
    "name": "ipython",
    "version": 3
   },
   "file_extension": ".py",
   "mimetype": "text/x-python",
   "name": "python",
   "nbconvert_exporter": "python",
   "pygments_lexer": "ipython3",
   "version": "3.9.7"
  }
 },
 "nbformat": 4,
 "nbformat_minor": 5
}
